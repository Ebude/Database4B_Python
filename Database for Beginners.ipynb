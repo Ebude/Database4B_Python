{
 "cells": [
  {
   "cell_type": "markdown",
   "metadata": {},
   "source": [
    "Compiled by Ebude Yolande"
   ]
  },
  {
   "cell_type": "markdown",
   "metadata": {},
   "source": [
    "## Introduction"
   ]
  },
  {
   "cell_type": "markdown",
   "metadata": {},
   "source": [
    "Nowadays, most companies use database to store information. There are different kind of database but in this workshop we will handle Structured Query Language (SQL) type: SQLite. To start download this dataset <a href='https://drive.google.com/file/d/151p846LIvDjQD9WG3fRu2w5L2rQFZSK2/view?usp=sharing'>SqLite file</a>"
   ]
  },
  {
   "cell_type": "markdown",
   "metadata": {},
   "source": [
    "## Content"
   ]
  },
  {
   "cell_type": "markdown",
   "metadata": {},
   "source": [
    "- Import different database types\n",
    "- Modify database"
   ]
  },
  {
   "cell_type": "code",
   "execution_count": 1,
   "metadata": {},
   "outputs": [],
   "source": [
    "import sqlite3 as sq\n",
    "import pandas as pd\n",
    "import warnings\n",
    "warnings.filterwarnings('ignore')"
   ]
  },
  {
   "cell_type": "markdown",
   "metadata": {},
   "source": [
    "## Import different database types"
   ]
  },
  {
   "cell_type": "markdown",
   "metadata": {},
   "source": [
    "### SQlite"
   ]
  },
  {
   "cell_type": "code",
   "execution_count": 2,
   "metadata": {},
   "outputs": [
    {
     "data": {
      "text/html": [
       "<div>\n",
       "<style scoped>\n",
       "    .dataframe tbody tr th:only-of-type {\n",
       "        vertical-align: middle;\n",
       "    }\n",
       "\n",
       "    .dataframe tbody tr th {\n",
       "        vertical-align: top;\n",
       "    }\n",
       "\n",
       "    .dataframe thead th {\n",
       "        text-align: right;\n",
       "    }\n",
       "</style>\n",
       "<table border=\"1\" class=\"dataframe\">\n",
       "  <thead>\n",
       "    <tr style=\"text-align: right;\">\n",
       "      <th></th>\n",
       "      <th>Generator</th>\n",
       "      <th>Buyer_Name</th>\n",
       "      <th>Purchase_Quantity</th>\n",
       "      <th>Purchase_Date</th>\n",
       "      <th>Purchase_Time</th>\n",
       "      <th>Payment</th>\n",
       "      <th>Mass</th>\n",
       "      <th>Generator_Amount</th>\n",
       "      <th>Refilling_Name</th>\n",
       "      <th>Refilling_Quantity</th>\n",
       "      <th>Refilling_Date</th>\n",
       "      <th>Refilling_Time</th>\n",
       "      <th>Check</th>\n",
       "    </tr>\n",
       "  </thead>\n",
       "  <tbody>\n",
       "    <tr>\n",
       "      <th>0</th>\n",
       "      <td>Genset1</td>\n",
       "      <td>Andy</td>\n",
       "      <td>756.0</td>\n",
       "      <td>02/01/15</td>\n",
       "      <td>15:25</td>\n",
       "      <td>453600</td>\n",
       "      <td>628.992</td>\n",
       "      <td>756.0</td>\n",
       "      <td>Andy</td>\n",
       "      <td>756.0</td>\n",
       "      <td>03/01/15</td>\n",
       "      <td>07:10</td>\n",
       "      <td>1</td>\n",
       "    </tr>\n",
       "    <tr>\n",
       "      <th>1</th>\n",
       "      <td>Genset5</td>\n",
       "      <td>Kate</td>\n",
       "      <td>163.5</td>\n",
       "      <td>04/01/15</td>\n",
       "      <td>10:45</td>\n",
       "      <td>98100</td>\n",
       "      <td>136.032</td>\n",
       "      <td>163.5</td>\n",
       "      <td>Kate</td>\n",
       "      <td>163.5</td>\n",
       "      <td>03/01/15</td>\n",
       "      <td>17:10</td>\n",
       "      <td>1</td>\n",
       "    </tr>\n",
       "    <tr>\n",
       "      <th>2</th>\n",
       "      <td>Genset9</td>\n",
       "      <td>Louis</td>\n",
       "      <td>860.0</td>\n",
       "      <td>06/01/15</td>\n",
       "      <td>15:45</td>\n",
       "      <td>516000</td>\n",
       "      <td>715.520</td>\n",
       "      <td>860.0</td>\n",
       "      <td>Kate</td>\n",
       "      <td>800.0</td>\n",
       "      <td>06/01/15</td>\n",
       "      <td>17:40</td>\n",
       "      <td>1</td>\n",
       "    </tr>\n",
       "  </tbody>\n",
       "</table>\n",
       "</div>"
      ],
      "text/plain": [
       "  Generator Buyer_Name  Purchase_Quantity Purchase_Date Purchase_Time  \\\n",
       "0   Genset1       Andy              756.0      02/01/15         15:25   \n",
       "1   Genset5       Kate              163.5      04/01/15         10:45   \n",
       "2   Genset9      Louis              860.0      06/01/15         15:45   \n",
       "\n",
       "   Payment     Mass  Generator_Amount Refilling_Name  Refilling_Quantity  \\\n",
       "0   453600  628.992             756.0           Andy               756.0   \n",
       "1    98100  136.032             163.5           Kate               163.5   \n",
       "2   516000  715.520             860.0           Kate               800.0   \n",
       "\n",
       "  Refilling_Date Refilling_Time  Check  \n",
       "0       03/01/15          07:10      1  \n",
       "1       03/01/15          17:10      1  \n",
       "2       06/01/15          17:40      1  "
      ]
     },
     "execution_count": 2,
     "metadata": {},
     "output_type": "execute_result"
    }
   ],
   "source": [
    "conn=sq.connect('GeneratorRefilling.sqlite')\n",
    "cur=conn.cursor()\n",
    "query=\"SELECT * FROM RefillingGen2018\"\n",
    "data=pd.read_sql(query,conn)\n",
    "data.head(3)"
   ]
  },
  {
   "cell_type": "markdown",
   "metadata": {},
   "source": [
    "### Dat file"
   ]
  },
  {
   "cell_type": "code",
   "execution_count": 3,
   "metadata": {},
   "outputs": [
    {
     "data": {
      "text/html": [
       "<div>\n",
       "<style scoped>\n",
       "    .dataframe tbody tr th:only-of-type {\n",
       "        vertical-align: middle;\n",
       "    }\n",
       "\n",
       "    .dataframe tbody tr th {\n",
       "        vertical-align: top;\n",
       "    }\n",
       "\n",
       "    .dataframe thead th {\n",
       "        text-align: right;\n",
       "    }\n",
       "</style>\n",
       "<table border=\"1\" class=\"dataframe\">\n",
       "  <thead>\n",
       "    <tr style=\"text-align: right;\">\n",
       "      <th></th>\n",
       "      <th>num</th>\n",
       "      <th>val</th>\n",
       "      <th>Firstname</th>\n",
       "      <th>Lastname</th>\n",
       "      <th>Email</th>\n",
       "      <th>val1</th>\n",
       "      <th>unit</th>\n",
       "      <th>Date</th>\n",
       "      <th>Datetime</th>\n",
       "      <th>Verify</th>\n",
       "    </tr>\n",
       "  </thead>\n",
       "  <tbody>\n",
       "    <tr>\n",
       "      <th>596</th>\n",
       "      <td>598</td>\n",
       "      <td>1</td>\n",
       "      <td>Wade</td>\n",
       "      <td>Delvalle</td>\n",
       "      <td>wade.delvalle@sakilacustomer.org</td>\n",
       "      <td>604</td>\n",
       "      <td>t</td>\n",
       "      <td>2006-02-14</td>\n",
       "      <td>2013-05-26 14:49:45.738</td>\n",
       "      <td>1</td>\n",
       "    </tr>\n",
       "    <tr>\n",
       "      <th>597</th>\n",
       "      <td>599</td>\n",
       "      <td>2</td>\n",
       "      <td>Austin</td>\n",
       "      <td>Cintron</td>\n",
       "      <td>austin.cintron@sakilacustomer.org</td>\n",
       "      <td>605</td>\n",
       "      <td>t</td>\n",
       "      <td>2006-02-14</td>\n",
       "      <td>2013-05-26 14:49:45.738</td>\n",
       "      <td>1</td>\n",
       "    </tr>\n",
       "    <tr>\n",
       "      <th>598</th>\n",
       "      <td>524</td>\n",
       "      <td>1</td>\n",
       "      <td>Jared</td>\n",
       "      <td>Ely</td>\n",
       "      <td>jared.ely@sakilacustomer.org</td>\n",
       "      <td>530</td>\n",
       "      <td>t</td>\n",
       "      <td>2006-02-14</td>\n",
       "      <td>2013-05-26 14:49:45.738</td>\n",
       "      <td>1.1</td>\n",
       "    </tr>\n",
       "  </tbody>\n",
       "</table>\n",
       "</div>"
      ],
      "text/plain": [
       "     num val Firstname  Lastname                              Email val1 unit  \\\n",
       "596  598   1      Wade  Delvalle   wade.delvalle@sakilacustomer.org  604    t   \n",
       "597  599   2    Austin   Cintron  austin.cintron@sakilacustomer.org  605    t   \n",
       "598  524   1     Jared       Ely       jared.ely@sakilacustomer.org  530    t   \n",
       "\n",
       "           Date                 Datetime Verify  \n",
       "596  2006-02-14  2013-05-26 14:49:45.738      1  \n",
       "597  2006-02-14  2013-05-26 14:49:45.738      1  \n",
       "598  2006-02-14  2013-05-26 14:49:45.738    1.1  "
      ]
     },
     "execution_count": 3,
     "metadata": {},
     "output_type": "execute_result"
    }
   ],
   "source": [
    "tab = pd.read_table('3055.dat')\n",
    "temp=tab.columns\n",
    "tab.columns=['num','val','Firstname','Lastname','Email',\n",
    "             'val1','unit','Date','Datetime','Verify'] # change the header\n",
    "tab.iloc[-1]=temp #assign header to last row\n",
    "tab.tail(3)"
   ]
  },
  {
   "cell_type": "markdown",
   "metadata": {},
   "source": [
    "## Modify database"
   ]
  },
  {
   "cell_type": "markdown",
   "metadata": {},
   "source": [
    "Create a table"
   ]
  },
  {
   "cell_type": "code",
   "execution_count": 5,
   "metadata": {},
   "outputs": [
    {
     "data": {
      "text/plain": [
       "<sqlite3.Cursor at 0x29c5b4e6b90>"
      ]
     },
     "execution_count": 5,
     "metadata": {},
     "output_type": "execute_result"
    }
   ],
   "source": [
    "conn=sq.connect('GeneratorRefilling.sqlite')\n",
    "cur=conn.cursor()\n",
    "query='CREATE TABLE People (id integer PRIMARYKEY, name char(25), time Date)'\n",
    "conn.execute(query)"
   ]
  },
  {
   "cell_type": "markdown",
   "metadata": {},
   "source": [
    "Create new table of an existing dataframe"
   ]
  },
  {
   "cell_type": "code",
   "execution_count": 6,
   "metadata": {},
   "outputs": [],
   "source": [
    "tab.to_sql('Tab3055',conn)"
   ]
  },
  {
   "cell_type": "code",
   "execution_count": 7,
   "metadata": {},
   "outputs": [
    {
     "data": {
      "text/html": [
       "<div>\n",
       "<style scoped>\n",
       "    .dataframe tbody tr th:only-of-type {\n",
       "        vertical-align: middle;\n",
       "    }\n",
       "\n",
       "    .dataframe tbody tr th {\n",
       "        vertical-align: top;\n",
       "    }\n",
       "\n",
       "    .dataframe thead th {\n",
       "        text-align: right;\n",
       "    }\n",
       "</style>\n",
       "<table border=\"1\" class=\"dataframe\">\n",
       "  <thead>\n",
       "    <tr style=\"text-align: right;\">\n",
       "      <th></th>\n",
       "      <th>index</th>\n",
       "      <th>num</th>\n",
       "      <th>val</th>\n",
       "      <th>Firstname</th>\n",
       "      <th>Lastname</th>\n",
       "      <th>Email</th>\n",
       "      <th>val1</th>\n",
       "      <th>unit</th>\n",
       "      <th>Date</th>\n",
       "      <th>Datetime</th>\n",
       "      <th>Verify</th>\n",
       "    </tr>\n",
       "  </thead>\n",
       "  <tbody>\n",
       "    <tr>\n",
       "      <th>0</th>\n",
       "      <td>0</td>\n",
       "      <td>1</td>\n",
       "      <td>1.0</td>\n",
       "      <td>Mary</td>\n",
       "      <td>Smith</td>\n",
       "      <td>mary.smith@sakilacustomer.org</td>\n",
       "      <td>5.0</td>\n",
       "      <td>t</td>\n",
       "      <td>2006-02-14</td>\n",
       "      <td>2013-05-26 14:49:45.738</td>\n",
       "      <td>1.0</td>\n",
       "    </tr>\n",
       "    <tr>\n",
       "      <th>1</th>\n",
       "      <td>1</td>\n",
       "      <td>2</td>\n",
       "      <td>1.0</td>\n",
       "      <td>Patricia</td>\n",
       "      <td>Johnson</td>\n",
       "      <td>patricia.johnson@sakilacustomer.org</td>\n",
       "      <td>6.0</td>\n",
       "      <td>t</td>\n",
       "      <td>2006-02-14</td>\n",
       "      <td>2013-05-26 14:49:45.738</td>\n",
       "      <td>1.0</td>\n",
       "    </tr>\n",
       "    <tr>\n",
       "      <th>2</th>\n",
       "      <td>2</td>\n",
       "      <td>3</td>\n",
       "      <td>1.0</td>\n",
       "      <td>Linda</td>\n",
       "      <td>Williams</td>\n",
       "      <td>linda.williams@sakilacustomer.org</td>\n",
       "      <td>7.0</td>\n",
       "      <td>t</td>\n",
       "      <td>2006-02-14</td>\n",
       "      <td>2013-05-26 14:49:45.738</td>\n",
       "      <td>1.0</td>\n",
       "    </tr>\n",
       "  </tbody>\n",
       "</table>\n",
       "</div>"
      ],
      "text/plain": [
       "   index num  val Firstname  Lastname                                Email  \\\n",
       "0      0   1  1.0      Mary     Smith        mary.smith@sakilacustomer.org   \n",
       "1      1   2  1.0  Patricia   Johnson  patricia.johnson@sakilacustomer.org   \n",
       "2      2   3  1.0     Linda  Williams    linda.williams@sakilacustomer.org   \n",
       "\n",
       "  val1 unit        Date                 Datetime Verify  \n",
       "0  5.0    t  2006-02-14  2013-05-26 14:49:45.738    1.0  \n",
       "1  6.0    t  2006-02-14  2013-05-26 14:49:45.738    1.0  \n",
       "2  7.0    t  2006-02-14  2013-05-26 14:49:45.738    1.0  "
      ]
     },
     "execution_count": 7,
     "metadata": {},
     "output_type": "execute_result"
    }
   ],
   "source": [
    "query=\"SELECT * FROM Tab3055\"\n",
    "tab3055=pd.read_sql(query,conn)\n",
    "tab3055.head(3)"
   ]
  },
  {
   "cell_type": "markdown",
   "metadata": {},
   "source": [
    "Add rows in new table"
   ]
  },
  {
   "cell_type": "code",
   "execution_count": 8,
   "metadata": {},
   "outputs": [
    {
     "data": {
      "text/html": [
       "<div>\n",
       "<style scoped>\n",
       "    .dataframe tbody tr th:only-of-type {\n",
       "        vertical-align: middle;\n",
       "    }\n",
       "\n",
       "    .dataframe tbody tr th {\n",
       "        vertical-align: top;\n",
       "    }\n",
       "\n",
       "    .dataframe thead th {\n",
       "        text-align: right;\n",
       "    }\n",
       "</style>\n",
       "<table border=\"1\" class=\"dataframe\">\n",
       "  <thead>\n",
       "    <tr style=\"text-align: right;\">\n",
       "      <th></th>\n",
       "      <th>id</th>\n",
       "      <th>name</th>\n",
       "      <th>time</th>\n",
       "    </tr>\n",
       "  </thead>\n",
       "  <tbody>\n",
       "    <tr>\n",
       "      <th>0</th>\n",
       "      <td>1</td>\n",
       "      <td>Penina</td>\n",
       "      <td>12/01/2019</td>\n",
       "    </tr>\n",
       "  </tbody>\n",
       "</table>\n",
       "</div>"
      ],
      "text/plain": [
       "   id    name        time\n",
       "0   1  Penina  12/01/2019"
      ]
     },
     "execution_count": 8,
     "metadata": {},
     "output_type": "execute_result"
    }
   ],
   "source": [
    "query = \"INSERT INTO People(id, name, time) VALUES ('1','Penina','12/01/2019')\"\n",
    "conn.execute(query)\n",
    "query=\"SELECT * FROM People\"\n",
    "Peop=pd.read_sql(query,conn)\n",
    "Peop.head()"
   ]
  },
  {
   "cell_type": "markdown",
   "metadata": {},
   "source": [
    "Delete rows in table"
   ]
  },
  {
   "cell_type": "code",
   "execution_count": 9,
   "metadata": {},
   "outputs": [
    {
     "data": {
      "text/plain": [
       "<sqlite3.Cursor at 0x29c5b81a2d0>"
      ]
     },
     "execution_count": 9,
     "metadata": {},
     "output_type": "execute_result"
    }
   ],
   "source": [
    "query = \"DELETE FROM Tab3055 WHERE Firstname=='Mary'\"\n",
    "conn.execute(query)"
   ]
  },
  {
   "cell_type": "markdown",
   "metadata": {},
   "source": [
    "Change a value in the table"
   ]
  },
  {
   "cell_type": "code",
   "execution_count": 10,
   "metadata": {},
   "outputs": [
    {
     "data": {
      "text/plain": [
       "<sqlite3.Cursor at 0x29c5b81a570>"
      ]
     },
     "execution_count": 10,
     "metadata": {},
     "output_type": "execute_result"
    }
   ],
   "source": [
    "query = \"UPDATE People SET name='Angela' WHERE id='1'\" \n",
    "conn.execute(query)"
   ]
  },
  {
   "cell_type": "code",
   "execution_count": 11,
   "metadata": {},
   "outputs": [
    {
     "data": {
      "text/html": [
       "<div>\n",
       "<style scoped>\n",
       "    .dataframe tbody tr th:only-of-type {\n",
       "        vertical-align: middle;\n",
       "    }\n",
       "\n",
       "    .dataframe tbody tr th {\n",
       "        vertical-align: top;\n",
       "    }\n",
       "\n",
       "    .dataframe thead th {\n",
       "        text-align: right;\n",
       "    }\n",
       "</style>\n",
       "<table border=\"1\" class=\"dataframe\">\n",
       "  <thead>\n",
       "    <tr style=\"text-align: right;\">\n",
       "      <th></th>\n",
       "      <th>id</th>\n",
       "      <th>name</th>\n",
       "      <th>time</th>\n",
       "    </tr>\n",
       "  </thead>\n",
       "  <tbody>\n",
       "    <tr>\n",
       "      <th>0</th>\n",
       "      <td>1</td>\n",
       "      <td>Angela</td>\n",
       "      <td>12/01/2019</td>\n",
       "    </tr>\n",
       "  </tbody>\n",
       "</table>\n",
       "</div>"
      ],
      "text/plain": [
       "   id    name        time\n",
       "0   1  Angela  12/01/2019"
      ]
     },
     "execution_count": 11,
     "metadata": {},
     "output_type": "execute_result"
    }
   ],
   "source": [
    "query=\"SELECT * FROM People\"\n",
    "Peop=pd.read_sql(query,conn)\n",
    "Peop.head()"
   ]
  },
  {
   "cell_type": "markdown",
   "metadata": {},
   "source": [
    "Close the database"
   ]
  },
  {
   "cell_type": "code",
   "execution_count": 12,
   "metadata": {},
   "outputs": [],
   "source": [
    "conn.close()"
   ]
  },
  {
   "cell_type": "markdown",
   "metadata": {},
   "source": [
    "## Challenge"
   ]
  },
  {
   "cell_type": "markdown",
   "metadata": {},
   "source": [
    "1. Import \"GeneratorRefilling.sqlite\" and \"3057.dat\" and change the header of \"3057.dat\" to ['num','name','surname','date']\n",
    "\n",
    "2. Create a table in the database for \"3057.dat\" called Tab3057\n",
    "\n",
    "3. Delete the \"Tab3055\" table\n",
    "\n",
    "4. Add a row to Tab3057 table\n",
    "\n",
    "5. Delete the 3rd row of Tab3057\n",
    "\n",
    "6.  Add column 'Verify' to Tab3057 and assign 1 is num>50 and 0 else\n"
   ]
  }
 ],
 "metadata": {
  "kernelspec": {
   "display_name": "Python 3",
   "language": "python",
   "name": "python3"
  },
  "language_info": {
   "codemirror_mode": {
    "name": "ipython",
    "version": 3
   },
   "file_extension": ".py",
   "mimetype": "text/x-python",
   "name": "python",
   "nbconvert_exporter": "python",
   "pygments_lexer": "ipython3",
   "version": "3.7.3"
  }
 },
 "nbformat": 4,
 "nbformat_minor": 2
}
