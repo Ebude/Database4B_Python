{
 "cells": [
  {
   "cell_type": "markdown",
   "metadata": {},
   "source": [
    "Complied by Ebude Yolande"
   ]
  },
  {
   "cell_type": "code",
   "execution_count": 4,
   "metadata": {},
   "outputs": [],
   "source": [
    "import sqlite3 as sq\n",
    "import pandas as pd\n",
    "import datetime as dtm\n",
    "import warnings\n",
    "warnings.filterwarnings('ignore')"
   ]
  },
  {
   "cell_type": "markdown",
   "metadata": {},
   "source": [
    "### 1. Import \"GeneratorRefilling.sqlite\" and \"3057.dat\" and change the header of \"3057.dat\" to ['num','name','surname','date']"
   ]
  },
  {
   "cell_type": "markdown",
   "metadata": {},
   "source": [
    "Import \"GeneratorRefilling.sqlite\""
   ]
  },
  {
   "cell_type": "code",
   "execution_count": 5,
   "metadata": {},
   "outputs": [
    {
     "data": {
      "text/html": [
       "<div>\n",
       "<style scoped>\n",
       "    .dataframe tbody tr th:only-of-type {\n",
       "        vertical-align: middle;\n",
       "    }\n",
       "\n",
       "    .dataframe tbody tr th {\n",
       "        vertical-align: top;\n",
       "    }\n",
       "\n",
       "    .dataframe thead th {\n",
       "        text-align: right;\n",
       "    }\n",
       "</style>\n",
       "<table border=\"1\" class=\"dataframe\">\n",
       "  <thead>\n",
       "    <tr style=\"text-align: right;\">\n",
       "      <th></th>\n",
       "      <th>Generator</th>\n",
       "      <th>Buyer_Name</th>\n",
       "      <th>Purchase_Quantity</th>\n",
       "      <th>Purchase_Date</th>\n",
       "      <th>Purchase_Time</th>\n",
       "      <th>Payment</th>\n",
       "      <th>Mass</th>\n",
       "      <th>Generator_Amount</th>\n",
       "      <th>Refilling_Name</th>\n",
       "      <th>Refilling_Quantity</th>\n",
       "      <th>Refilling_Date</th>\n",
       "      <th>Refilling_Time</th>\n",
       "      <th>Check</th>\n",
       "    </tr>\n",
       "  </thead>\n",
       "  <tbody>\n",
       "    <tr>\n",
       "      <th>0</th>\n",
       "      <td>Genset1</td>\n",
       "      <td>Andy</td>\n",
       "      <td>756.0</td>\n",
       "      <td>02/01/15</td>\n",
       "      <td>15:25</td>\n",
       "      <td>453600</td>\n",
       "      <td>628.992</td>\n",
       "      <td>756.0</td>\n",
       "      <td>Andy</td>\n",
       "      <td>756.0</td>\n",
       "      <td>03/01/15</td>\n",
       "      <td>07:10</td>\n",
       "      <td>1</td>\n",
       "    </tr>\n",
       "    <tr>\n",
       "      <th>1</th>\n",
       "      <td>Genset5</td>\n",
       "      <td>Kate</td>\n",
       "      <td>163.5</td>\n",
       "      <td>04/01/15</td>\n",
       "      <td>10:45</td>\n",
       "      <td>98100</td>\n",
       "      <td>136.032</td>\n",
       "      <td>163.5</td>\n",
       "      <td>Kate</td>\n",
       "      <td>163.5</td>\n",
       "      <td>03/01/15</td>\n",
       "      <td>17:10</td>\n",
       "      <td>1</td>\n",
       "    </tr>\n",
       "    <tr>\n",
       "      <th>2</th>\n",
       "      <td>Genset9</td>\n",
       "      <td>Louis</td>\n",
       "      <td>860.0</td>\n",
       "      <td>06/01/15</td>\n",
       "      <td>15:45</td>\n",
       "      <td>516000</td>\n",
       "      <td>715.520</td>\n",
       "      <td>860.0</td>\n",
       "      <td>Kate</td>\n",
       "      <td>800.0</td>\n",
       "      <td>06/01/15</td>\n",
       "      <td>17:40</td>\n",
       "      <td>1</td>\n",
       "    </tr>\n",
       "  </tbody>\n",
       "</table>\n",
       "</div>"
      ],
      "text/plain": [
       "  Generator Buyer_Name  Purchase_Quantity Purchase_Date Purchase_Time  \\\n",
       "0   Genset1       Andy              756.0      02/01/15         15:25   \n",
       "1   Genset5       Kate              163.5      04/01/15         10:45   \n",
       "2   Genset9      Louis              860.0      06/01/15         15:45   \n",
       "\n",
       "   Payment     Mass  Generator_Amount Refilling_Name  Refilling_Quantity  \\\n",
       "0   453600  628.992             756.0           Andy               756.0   \n",
       "1    98100  136.032             163.5           Kate               163.5   \n",
       "2   516000  715.520             860.0           Kate               800.0   \n",
       "\n",
       "  Refilling_Date Refilling_Time  Check  \n",
       "0       03/01/15          07:10      1  \n",
       "1       03/01/15          17:10      1  \n",
       "2       06/01/15          17:40      1  "
      ]
     },
     "execution_count": 5,
     "metadata": {},
     "output_type": "execute_result"
    }
   ],
   "source": [
    "conn=sq.connect('GeneratorRefilling.sqlite')\n",
    "cur=conn.cursor()\n",
    "query=\"SELECT * FROM RefillingGen2018\"\n",
    "data=pd.read_sql(query,conn)\n",
    "data.head(3)"
   ]
  },
  {
   "cell_type": "markdown",
   "metadata": {},
   "source": [
    "Import 3057.dat and change the header of \"3057.dat\" to ['num','name','surname','date']"
   ]
  },
  {
   "cell_type": "code",
   "execution_count": 6,
   "metadata": {},
   "outputs": [
    {
     "data": {
      "text/html": [
       "<div>\n",
       "<style scoped>\n",
       "    .dataframe tbody tr th:only-of-type {\n",
       "        vertical-align: middle;\n",
       "    }\n",
       "\n",
       "    .dataframe tbody tr th {\n",
       "        vertical-align: top;\n",
       "    }\n",
       "\n",
       "    .dataframe thead th {\n",
       "        text-align: right;\n",
       "    }\n",
       "</style>\n",
       "<table border=\"1\" class=\"dataframe\">\n",
       "  <thead>\n",
       "    <tr style=\"text-align: right;\">\n",
       "      <th></th>\n",
       "      <th>num</th>\n",
       "      <th>name</th>\n",
       "      <th>surname</th>\n",
       "      <th>date</th>\n",
       "    </tr>\n",
       "  </thead>\n",
       "  <tbody>\n",
       "    <tr>\n",
       "      <th>199</th>\n",
       "      <td>1</td>\n",
       "      <td>Penelope</td>\n",
       "      <td>Guiness</td>\n",
       "      <td>2013-05-26 14:47:57.62</td>\n",
       "    </tr>\n",
       "    <tr>\n",
       "      <th>8</th>\n",
       "      <td>10</td>\n",
       "      <td>Christian</td>\n",
       "      <td>Gable</td>\n",
       "      <td>2013-05-26 14:47:57.62</td>\n",
       "    </tr>\n",
       "    <tr>\n",
       "      <th>99</th>\n",
       "      <td>100</td>\n",
       "      <td>Spencer</td>\n",
       "      <td>Depp</td>\n",
       "      <td>2013-05-26 14:47:57.62</td>\n",
       "    </tr>\n",
       "  </tbody>\n",
       "</table>\n",
       "</div>"
      ],
      "text/plain": [
       "     num       name  surname                    date\n",
       "199    1   Penelope  Guiness  2013-05-26 14:47:57.62\n",
       "8     10  Christian    Gable  2013-05-26 14:47:57.62\n",
       "99   100    Spencer     Depp  2013-05-26 14:47:57.62"
      ]
     },
     "execution_count": 6,
     "metadata": {},
     "output_type": "execute_result"
    }
   ],
   "source": [
    "tab = pd.read_table('3057.dat')\n",
    "temp=tab.columns\n",
    "tab.columns=['num','name','surname','date'] # change header\n",
    "tab.iloc[-1]=temp #assign header to last row\n",
    "tab=tab.sort_index(by='num') # arrange num in ascending order\n",
    "tab=tab[['num','name','surname','date']]\n",
    "tab.head(3)"
   ]
  },
  {
   "cell_type": "markdown",
   "metadata": {},
   "source": [
    "2. Create a table in the database for \"3057.dat\" called Tab3057"
   ]
  },
  {
   "cell_type": "code",
   "execution_count": 10,
   "metadata": {},
   "outputs": [],
   "source": [
    "tab.to_sql('Tab3057',conn)"
   ]
  },
  {
   "cell_type": "markdown",
   "metadata": {},
   "source": [
    "\n",
    "3. Delete the \"Tab3055\" table\n"
   ]
  },
  {
   "cell_type": "code",
   "execution_count": 11,
   "metadata": {},
   "outputs": [
    {
     "data": {
      "text/plain": [
       "<sqlite3.Cursor at 0x15404a3c340>"
      ]
     },
     "execution_count": 11,
     "metadata": {},
     "output_type": "execute_result"
    }
   ],
   "source": [
    "query = \"DROP TABLE Tab3055\"\n",
    "conn.execute(query)"
   ]
  },
  {
   "cell_type": "markdown",
   "metadata": {},
   "source": [
    "4. Add a row to Tab3057 table"
   ]
  },
  {
   "cell_type": "code",
   "execution_count": 12,
   "metadata": {},
   "outputs": [
    {
     "data": {
      "text/html": [
       "<div>\n",
       "<style scoped>\n",
       "    .dataframe tbody tr th:only-of-type {\n",
       "        vertical-align: middle;\n",
       "    }\n",
       "\n",
       "    .dataframe tbody tr th {\n",
       "        vertical-align: top;\n",
       "    }\n",
       "\n",
       "    .dataframe thead th {\n",
       "        text-align: right;\n",
       "    }\n",
       "</style>\n",
       "<table border=\"1\" class=\"dataframe\">\n",
       "  <thead>\n",
       "    <tr style=\"text-align: right;\">\n",
       "      <th></th>\n",
       "      <th>index</th>\n",
       "      <th>num</th>\n",
       "      <th>name</th>\n",
       "      <th>surname</th>\n",
       "      <th>date</th>\n",
       "    </tr>\n",
       "  </thead>\n",
       "  <tbody>\n",
       "    <tr>\n",
       "      <th>198</th>\n",
       "      <td>97</td>\n",
       "      <td>98</td>\n",
       "      <td>Chris</td>\n",
       "      <td>Bridges</td>\n",
       "      <td>2013-05-26 14:47:57.62</td>\n",
       "    </tr>\n",
       "    <tr>\n",
       "      <th>199</th>\n",
       "      <td>98</td>\n",
       "      <td>99</td>\n",
       "      <td>Jim</td>\n",
       "      <td>Mostel</td>\n",
       "      <td>2013-05-26 14:47:57.62</td>\n",
       "    </tr>\n",
       "    <tr>\n",
       "      <th>200</th>\n",
       "      <td>99</td>\n",
       "      <td>5</td>\n",
       "      <td>Peal</td>\n",
       "      <td>Johnny Walker</td>\n",
       "      <td>2014-01-23 17:47:55</td>\n",
       "    </tr>\n",
       "  </tbody>\n",
       "</table>\n",
       "</div>"
      ],
      "text/plain": [
       "     index num   name        surname                    date\n",
       "198     97  98  Chris        Bridges  2013-05-26 14:47:57.62\n",
       "199     98  99    Jim         Mostel  2013-05-26 14:47:57.62\n",
       "200     99   5   Peal  Johnny Walker     2014-01-23 17:47:55"
      ]
     },
     "execution_count": 12,
     "metadata": {},
     "output_type": "execute_result"
    }
   ],
   "source": [
    "query= \"INSERT INTO Tab3057('index','num','name','surname','date') VALUES ('99','5','Peal','Johnny Walker','2014-01-23 17:47:55')\"\n",
    "conn.execute(query)\n",
    "query=\"SELECT * FROM  Tab3057\"\n",
    "tab3057=pd.read_sql(query,conn)\n",
    "tab3057.tail(3)"
   ]
  },
  {
   "cell_type": "markdown",
   "metadata": {},
   "source": [
    "5. Delete the 3rd row of Tab3057"
   ]
  },
  {
   "cell_type": "code",
   "execution_count": 13,
   "metadata": {},
   "outputs": [
    {
     "data": {
      "text/html": [
       "<div>\n",
       "<style scoped>\n",
       "    .dataframe tbody tr th:only-of-type {\n",
       "        vertical-align: middle;\n",
       "    }\n",
       "\n",
       "    .dataframe tbody tr th {\n",
       "        vertical-align: top;\n",
       "    }\n",
       "\n",
       "    .dataframe thead th {\n",
       "        text-align: right;\n",
       "    }\n",
       "</style>\n",
       "<table border=\"1\" class=\"dataframe\">\n",
       "  <thead>\n",
       "    <tr style=\"text-align: right;\">\n",
       "      <th></th>\n",
       "      <th>index</th>\n",
       "      <th>num</th>\n",
       "      <th>name</th>\n",
       "      <th>surname</th>\n",
       "      <th>date</th>\n",
       "    </tr>\n",
       "  </thead>\n",
       "  <tbody>\n",
       "    <tr>\n",
       "      <th>196</th>\n",
       "      <td>96</td>\n",
       "      <td>97</td>\n",
       "      <td>Meg</td>\n",
       "      <td>Hawke</td>\n",
       "      <td>2013-05-26 14:47:57.62</td>\n",
       "    </tr>\n",
       "    <tr>\n",
       "      <th>197</th>\n",
       "      <td>97</td>\n",
       "      <td>98</td>\n",
       "      <td>Chris</td>\n",
       "      <td>Bridges</td>\n",
       "      <td>2013-05-26 14:47:57.62</td>\n",
       "    </tr>\n",
       "    <tr>\n",
       "      <th>198</th>\n",
       "      <td>98</td>\n",
       "      <td>99</td>\n",
       "      <td>Jim</td>\n",
       "      <td>Mostel</td>\n",
       "      <td>2013-05-26 14:47:57.62</td>\n",
       "    </tr>\n",
       "  </tbody>\n",
       "</table>\n",
       "</div>"
      ],
      "text/plain": [
       "     index num   name  surname                    date\n",
       "196     96  97    Meg    Hawke  2013-05-26 14:47:57.62\n",
       "197     97  98  Chris  Bridges  2013-05-26 14:47:57.62\n",
       "198     98  99    Jim   Mostel  2013-05-26 14:47:57.62"
      ]
     },
     "execution_count": 13,
     "metadata": {},
     "output_type": "execute_result"
    }
   ],
   "source": [
    "query = \"DELETE FROM Tab3057 WHERE num='5'\"\n",
    "conn.execute(query)\n",
    "query=\"SELECT * FROM  Tab3057\"\n",
    "tab3057=pd.read_sql(query,conn)\n",
    "tab3057.tail(3)"
   ]
  },
  {
   "cell_type": "markdown",
   "metadata": {},
   "source": [
    "6. Add column 'Verify' to Tab3057"
   ]
  },
  {
   "cell_type": "code",
   "execution_count": 14,
   "metadata": {},
   "outputs": [
    {
     "data": {
      "text/html": [
       "<div>\n",
       "<style scoped>\n",
       "    .dataframe tbody tr th:only-of-type {\n",
       "        vertical-align: middle;\n",
       "    }\n",
       "\n",
       "    .dataframe tbody tr th {\n",
       "        vertical-align: top;\n",
       "    }\n",
       "\n",
       "    .dataframe thead th {\n",
       "        text-align: right;\n",
       "    }\n",
       "</style>\n",
       "<table border=\"1\" class=\"dataframe\">\n",
       "  <thead>\n",
       "    <tr style=\"text-align: right;\">\n",
       "      <th></th>\n",
       "      <th>index</th>\n",
       "      <th>num</th>\n",
       "      <th>name</th>\n",
       "      <th>surname</th>\n",
       "      <th>date</th>\n",
       "      <th>Verify</th>\n",
       "    </tr>\n",
       "  </thead>\n",
       "  <tbody>\n",
       "    <tr>\n",
       "      <th>196</th>\n",
       "      <td>96</td>\n",
       "      <td>97</td>\n",
       "      <td>Meg</td>\n",
       "      <td>Hawke</td>\n",
       "      <td>2013-05-26 14:47:57.62</td>\n",
       "      <td>None</td>\n",
       "    </tr>\n",
       "    <tr>\n",
       "      <th>197</th>\n",
       "      <td>97</td>\n",
       "      <td>98</td>\n",
       "      <td>Chris</td>\n",
       "      <td>Bridges</td>\n",
       "      <td>2013-05-26 14:47:57.62</td>\n",
       "      <td>None</td>\n",
       "    </tr>\n",
       "    <tr>\n",
       "      <th>198</th>\n",
       "      <td>98</td>\n",
       "      <td>99</td>\n",
       "      <td>Jim</td>\n",
       "      <td>Mostel</td>\n",
       "      <td>2013-05-26 14:47:57.62</td>\n",
       "      <td>None</td>\n",
       "    </tr>\n",
       "  </tbody>\n",
       "</table>\n",
       "</div>"
      ],
      "text/plain": [
       "     index num   name  surname                    date Verify\n",
       "196     96  97    Meg    Hawke  2013-05-26 14:47:57.62   None\n",
       "197     97  98  Chris  Bridges  2013-05-26 14:47:57.62   None\n",
       "198     98  99    Jim   Mostel  2013-05-26 14:47:57.62   None"
      ]
     },
     "execution_count": 14,
     "metadata": {},
     "output_type": "execute_result"
    }
   ],
   "source": [
    "query = \"ALTER TABLE Tab3057 ADD Verify Varchar(25)\"\n",
    "conn.execute(query)\n",
    "query=\"SELECT * FROM  Tab3057\"\n",
    "tab3057=pd.read_sql(query,conn)\n",
    "tab3057.tail(3)"
   ]
  },
  {
   "cell_type": "code",
   "execution_count": 15,
   "metadata": {},
   "outputs": [
    {
     "data": {
      "text/html": [
       "<div>\n",
       "<style scoped>\n",
       "    .dataframe tbody tr th:only-of-type {\n",
       "        vertical-align: middle;\n",
       "    }\n",
       "\n",
       "    .dataframe tbody tr th {\n",
       "        vertical-align: top;\n",
       "    }\n",
       "\n",
       "    .dataframe thead th {\n",
       "        text-align: right;\n",
       "    }\n",
       "</style>\n",
       "<table border=\"1\" class=\"dataframe\">\n",
       "  <thead>\n",
       "    <tr style=\"text-align: right;\">\n",
       "      <th></th>\n",
       "      <th>index</th>\n",
       "      <th>num</th>\n",
       "      <th>name</th>\n",
       "      <th>surname</th>\n",
       "      <th>date</th>\n",
       "      <th>Verify</th>\n",
       "    </tr>\n",
       "  </thead>\n",
       "  <tbody>\n",
       "    <tr>\n",
       "      <th>196</th>\n",
       "      <td>96</td>\n",
       "      <td>97</td>\n",
       "      <td>Meg</td>\n",
       "      <td>Hawke</td>\n",
       "      <td>2013-05-26 14:47:57.62</td>\n",
       "      <td>1</td>\n",
       "    </tr>\n",
       "    <tr>\n",
       "      <th>197</th>\n",
       "      <td>97</td>\n",
       "      <td>98</td>\n",
       "      <td>Chris</td>\n",
       "      <td>Bridges</td>\n",
       "      <td>2013-05-26 14:47:57.62</td>\n",
       "      <td>1</td>\n",
       "    </tr>\n",
       "    <tr>\n",
       "      <th>198</th>\n",
       "      <td>98</td>\n",
       "      <td>99</td>\n",
       "      <td>Jim</td>\n",
       "      <td>Mostel</td>\n",
       "      <td>2013-05-26 14:47:57.62</td>\n",
       "      <td>1</td>\n",
       "    </tr>\n",
       "  </tbody>\n",
       "</table>\n",
       "</div>"
      ],
      "text/plain": [
       "     index num   name  surname                    date Verify\n",
       "196     96  97    Meg    Hawke  2013-05-26 14:47:57.62      1\n",
       "197     97  98  Chris  Bridges  2013-05-26 14:47:57.62      1\n",
       "198     98  99    Jim   Mostel  2013-05-26 14:47:57.62      1"
      ]
     },
     "execution_count": 15,
     "metadata": {},
     "output_type": "execute_result"
    }
   ],
   "source": [
    "query = \"UPDATE Tab3057 SET Verify='0'\"\n",
    "conn.execute(query)\n",
    "query = \"UPDATE Tab3057 SET Verify='1' WHERE num>50 \"\n",
    "conn.execute(query)\n",
    "query=\"SELECT * FROM  Tab3057\"\n",
    "tab3057=pd.read_sql(query,conn)\n",
    "tab3057.tail(3)"
   ]
  }
 ],
 "metadata": {
  "kernelspec": {
   "display_name": "Python 3",
   "language": "python",
   "name": "python3"
  },
  "language_info": {
   "codemirror_mode": {
    "name": "ipython",
    "version": 3
   },
   "file_extension": ".py",
   "mimetype": "text/x-python",
   "name": "python",
   "nbconvert_exporter": "python",
   "pygments_lexer": "ipython3",
   "version": "3.7.3"
  }
 },
 "nbformat": 4,
 "nbformat_minor": 2
}
